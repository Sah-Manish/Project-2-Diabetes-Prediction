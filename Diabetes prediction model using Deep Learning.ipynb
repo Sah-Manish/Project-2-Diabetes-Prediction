{
 "cells": [
  {
   "cell_type": "markdown",
   "id": "e14c1278",
   "metadata": {},
   "source": [
    "### Diabetes Prediction Model ANN using Deep Learning"
   ]
  },
  {
   "cell_type": "markdown",
   "id": "b7a436fa",
   "metadata": {},
   "source": [
    "### Importing Necessary Libraries"
   ]
  },
  {
   "cell_type": "code",
   "execution_count": 10,
   "id": "1894da2b",
   "metadata": {},
   "outputs": [],
   "source": [
    "import numpy as np\n",
    "import pandas as pd\n",
    "import tensorflow as tf"
   ]
  },
  {
   "cell_type": "markdown",
   "id": "4b5bad0f",
   "metadata": {},
   "source": [
    "### Loading Dataset"
   ]
  },
  {
   "cell_type": "code",
   "execution_count": 11,
   "id": "d581d49c",
   "metadata": {},
   "outputs": [
    {
     "data": {
      "text/html": [
       "<div>\n",
       "<style scoped>\n",
       "    .dataframe tbody tr th:only-of-type {\n",
       "        vertical-align: middle;\n",
       "    }\n",
       "\n",
       "    .dataframe tbody tr th {\n",
       "        vertical-align: top;\n",
       "    }\n",
       "\n",
       "    .dataframe thead th {\n",
       "        text-align: right;\n",
       "    }\n",
       "</style>\n",
       "<table border=\"1\" class=\"dataframe\">\n",
       "  <thead>\n",
       "    <tr style=\"text-align: right;\">\n",
       "      <th></th>\n",
       "      <th>Pregnancies</th>\n",
       "      <th>Glucose</th>\n",
       "      <th>BloodPressure</th>\n",
       "      <th>SkinThickness</th>\n",
       "      <th>Insulin</th>\n",
       "      <th>BMI</th>\n",
       "      <th>DiabetesPedigreeFunction</th>\n",
       "      <th>Age</th>\n",
       "      <th>Outcome</th>\n",
       "    </tr>\n",
       "  </thead>\n",
       "  <tbody>\n",
       "    <tr>\n",
       "      <th>count</th>\n",
       "      <td>768.000000</td>\n",
       "      <td>768.000000</td>\n",
       "      <td>768.000000</td>\n",
       "      <td>768.000000</td>\n",
       "      <td>768.000000</td>\n",
       "      <td>768.000000</td>\n",
       "      <td>768.000000</td>\n",
       "      <td>768.000000</td>\n",
       "      <td>768.000000</td>\n",
       "    </tr>\n",
       "    <tr>\n",
       "      <th>mean</th>\n",
       "      <td>3.845052</td>\n",
       "      <td>120.894531</td>\n",
       "      <td>69.105469</td>\n",
       "      <td>20.536458</td>\n",
       "      <td>79.799479</td>\n",
       "      <td>31.992578</td>\n",
       "      <td>0.471876</td>\n",
       "      <td>33.240885</td>\n",
       "      <td>0.348958</td>\n",
       "    </tr>\n",
       "    <tr>\n",
       "      <th>std</th>\n",
       "      <td>3.369578</td>\n",
       "      <td>31.972618</td>\n",
       "      <td>19.355807</td>\n",
       "      <td>15.952218</td>\n",
       "      <td>115.244002</td>\n",
       "      <td>7.884160</td>\n",
       "      <td>0.331329</td>\n",
       "      <td>11.760232</td>\n",
       "      <td>0.476951</td>\n",
       "    </tr>\n",
       "    <tr>\n",
       "      <th>min</th>\n",
       "      <td>0.000000</td>\n",
       "      <td>0.000000</td>\n",
       "      <td>0.000000</td>\n",
       "      <td>0.000000</td>\n",
       "      <td>0.000000</td>\n",
       "      <td>0.000000</td>\n",
       "      <td>0.078000</td>\n",
       "      <td>21.000000</td>\n",
       "      <td>0.000000</td>\n",
       "    </tr>\n",
       "    <tr>\n",
       "      <th>25%</th>\n",
       "      <td>1.000000</td>\n",
       "      <td>99.000000</td>\n",
       "      <td>62.000000</td>\n",
       "      <td>0.000000</td>\n",
       "      <td>0.000000</td>\n",
       "      <td>27.300000</td>\n",
       "      <td>0.243750</td>\n",
       "      <td>24.000000</td>\n",
       "      <td>0.000000</td>\n",
       "    </tr>\n",
       "    <tr>\n",
       "      <th>50%</th>\n",
       "      <td>3.000000</td>\n",
       "      <td>117.000000</td>\n",
       "      <td>72.000000</td>\n",
       "      <td>23.000000</td>\n",
       "      <td>30.500000</td>\n",
       "      <td>32.000000</td>\n",
       "      <td>0.372500</td>\n",
       "      <td>29.000000</td>\n",
       "      <td>0.000000</td>\n",
       "    </tr>\n",
       "    <tr>\n",
       "      <th>75%</th>\n",
       "      <td>6.000000</td>\n",
       "      <td>140.250000</td>\n",
       "      <td>80.000000</td>\n",
       "      <td>32.000000</td>\n",
       "      <td>127.250000</td>\n",
       "      <td>36.600000</td>\n",
       "      <td>0.626250</td>\n",
       "      <td>41.000000</td>\n",
       "      <td>1.000000</td>\n",
       "    </tr>\n",
       "    <tr>\n",
       "      <th>max</th>\n",
       "      <td>17.000000</td>\n",
       "      <td>199.000000</td>\n",
       "      <td>122.000000</td>\n",
       "      <td>99.000000</td>\n",
       "      <td>846.000000</td>\n",
       "      <td>67.100000</td>\n",
       "      <td>2.420000</td>\n",
       "      <td>81.000000</td>\n",
       "      <td>1.000000</td>\n",
       "    </tr>\n",
       "  </tbody>\n",
       "</table>\n",
       "</div>"
      ],
      "text/plain": [
       "       Pregnancies     Glucose  BloodPressure  SkinThickness     Insulin  \\\n",
       "count   768.000000  768.000000     768.000000     768.000000  768.000000   \n",
       "mean      3.845052  120.894531      69.105469      20.536458   79.799479   \n",
       "std       3.369578   31.972618      19.355807      15.952218  115.244002   \n",
       "min       0.000000    0.000000       0.000000       0.000000    0.000000   \n",
       "25%       1.000000   99.000000      62.000000       0.000000    0.000000   \n",
       "50%       3.000000  117.000000      72.000000      23.000000   30.500000   \n",
       "75%       6.000000  140.250000      80.000000      32.000000  127.250000   \n",
       "max      17.000000  199.000000     122.000000      99.000000  846.000000   \n",
       "\n",
       "              BMI  DiabetesPedigreeFunction         Age     Outcome  \n",
       "count  768.000000                768.000000  768.000000  768.000000  \n",
       "mean    31.992578                  0.471876   33.240885    0.348958  \n",
       "std      7.884160                  0.331329   11.760232    0.476951  \n",
       "min      0.000000                  0.078000   21.000000    0.000000  \n",
       "25%     27.300000                  0.243750   24.000000    0.000000  \n",
       "50%     32.000000                  0.372500   29.000000    0.000000  \n",
       "75%     36.600000                  0.626250   41.000000    1.000000  \n",
       "max     67.100000                  2.420000   81.000000    1.000000  "
      ]
     },
     "execution_count": 11,
     "metadata": {},
     "output_type": "execute_result"
    }
   ],
   "source": [
    "data=pd.read_csv(\"diabetes.csv\")\n",
    "data.describe()"
   ]
  },
  {
   "cell_type": "code",
   "execution_count": 12,
   "id": "e5905f58",
   "metadata": {},
   "outputs": [
    {
     "data": {
      "text/html": [
       "<div>\n",
       "<style scoped>\n",
       "    .dataframe tbody tr th:only-of-type {\n",
       "        vertical-align: middle;\n",
       "    }\n",
       "\n",
       "    .dataframe tbody tr th {\n",
       "        vertical-align: top;\n",
       "    }\n",
       "\n",
       "    .dataframe thead th {\n",
       "        text-align: right;\n",
       "    }\n",
       "</style>\n",
       "<table border=\"1\" class=\"dataframe\">\n",
       "  <thead>\n",
       "    <tr style=\"text-align: right;\">\n",
       "      <th></th>\n",
       "      <th>Pregnancies</th>\n",
       "      <th>Glucose</th>\n",
       "      <th>BloodPressure</th>\n",
       "      <th>SkinThickness</th>\n",
       "      <th>Insulin</th>\n",
       "      <th>BMI</th>\n",
       "      <th>DiabetesPedigreeFunction</th>\n",
       "      <th>Age</th>\n",
       "      <th>Outcome</th>\n",
       "    </tr>\n",
       "  </thead>\n",
       "  <tbody>\n",
       "    <tr>\n",
       "      <th>0</th>\n",
       "      <td>6</td>\n",
       "      <td>148</td>\n",
       "      <td>72</td>\n",
       "      <td>35</td>\n",
       "      <td>0</td>\n",
       "      <td>33.6</td>\n",
       "      <td>0.627</td>\n",
       "      <td>50</td>\n",
       "      <td>1</td>\n",
       "    </tr>\n",
       "    <tr>\n",
       "      <th>1</th>\n",
       "      <td>1</td>\n",
       "      <td>85</td>\n",
       "      <td>66</td>\n",
       "      <td>29</td>\n",
       "      <td>0</td>\n",
       "      <td>26.6</td>\n",
       "      <td>0.351</td>\n",
       "      <td>31</td>\n",
       "      <td>0</td>\n",
       "    </tr>\n",
       "    <tr>\n",
       "      <th>2</th>\n",
       "      <td>8</td>\n",
       "      <td>183</td>\n",
       "      <td>64</td>\n",
       "      <td>0</td>\n",
       "      <td>0</td>\n",
       "      <td>23.3</td>\n",
       "      <td>0.672</td>\n",
       "      <td>32</td>\n",
       "      <td>1</td>\n",
       "    </tr>\n",
       "    <tr>\n",
       "      <th>3</th>\n",
       "      <td>1</td>\n",
       "      <td>89</td>\n",
       "      <td>66</td>\n",
       "      <td>23</td>\n",
       "      <td>94</td>\n",
       "      <td>28.1</td>\n",
       "      <td>0.167</td>\n",
       "      <td>21</td>\n",
       "      <td>0</td>\n",
       "    </tr>\n",
       "    <tr>\n",
       "      <th>4</th>\n",
       "      <td>0</td>\n",
       "      <td>137</td>\n",
       "      <td>40</td>\n",
       "      <td>35</td>\n",
       "      <td>168</td>\n",
       "      <td>43.1</td>\n",
       "      <td>2.288</td>\n",
       "      <td>33</td>\n",
       "      <td>1</td>\n",
       "    </tr>\n",
       "  </tbody>\n",
       "</table>\n",
       "</div>"
      ],
      "text/plain": [
       "   Pregnancies  Glucose  BloodPressure  SkinThickness  Insulin   BMI  \\\n",
       "0            6      148             72             35        0  33.6   \n",
       "1            1       85             66             29        0  26.6   \n",
       "2            8      183             64              0        0  23.3   \n",
       "3            1       89             66             23       94  28.1   \n",
       "4            0      137             40             35      168  43.1   \n",
       "\n",
       "   DiabetesPedigreeFunction  Age  Outcome  \n",
       "0                     0.627   50        1  \n",
       "1                     0.351   31        0  \n",
       "2                     0.672   32        1  \n",
       "3                     0.167   21        0  \n",
       "4                     2.288   33        1  "
      ]
     },
     "execution_count": 12,
     "metadata": {},
     "output_type": "execute_result"
    }
   ],
   "source": [
    "data.head()"
   ]
  },
  {
   "cell_type": "markdown",
   "id": "6bc2875a",
   "metadata": {},
   "source": [
    "### Declaring dependent and independent variables"
   ]
  },
  {
   "cell_type": "code",
   "execution_count": 13,
   "id": "82778a2a",
   "metadata": {},
   "outputs": [
    {
     "data": {
      "text/plain": [
       "array([[  6.   , 148.   ,  72.   , ...,  33.6  ,   0.627,  50.   ],\n",
       "       [  1.   ,  85.   ,  66.   , ...,  26.6  ,   0.351,  31.   ],\n",
       "       [  8.   , 183.   ,  64.   , ...,  23.3  ,   0.672,  32.   ],\n",
       "       ...,\n",
       "       [  5.   , 121.   ,  72.   , ...,  26.2  ,   0.245,  30.   ],\n",
       "       [  1.   , 126.   ,  60.   , ...,  30.1  ,   0.349,  47.   ],\n",
       "       [  1.   ,  93.   ,  70.   , ...,  30.4  ,   0.315,  23.   ]])"
      ]
     },
     "execution_count": 13,
     "metadata": {},
     "output_type": "execute_result"
    }
   ],
   "source": [
    "x=data.iloc[:, 0:-1].values\n",
    "y=data.iloc[:, -1].values\n",
    "x"
   ]
  },
  {
   "cell_type": "code",
   "execution_count": 7,
   "id": "4327a237",
   "metadata": {},
   "outputs": [
    {
     "data": {
      "text/plain": [
       "array([1, 0, 1, 0, 1, 0, 1, 0, 1, 1, 0, 1, 0, 1, 1, 1, 1, 1, 0, 1, 0, 0,\n",
       "       1, 1, 1, 1, 1, 0, 0, 0, 0, 1, 0, 0, 0, 0, 0, 1, 1, 1, 0, 0, 0, 1,\n",
       "       0, 1, 0, 0, 1, 0, 0, 0, 0, 1, 0, 0, 1, 0, 0, 0, 0, 1, 0, 0, 1, 0,\n",
       "       1, 0, 0, 0, 1, 0, 1, 0, 0, 0, 0, 0, 1, 0, 0, 0, 0, 0, 1, 0, 0, 0,\n",
       "       1, 0, 0, 0, 0, 1, 0, 0, 0, 0, 0, 1, 1, 0, 0, 0, 0, 0, 0, 0, 0, 1,\n",
       "       1, 1, 0, 0, 1, 1, 1, 0, 0, 0, 1, 0, 0, 0, 1, 1, 0, 0, 1, 1, 1, 1,\n",
       "       1, 0, 0, 0, 0, 0, 0, 0, 0, 0, 0, 1, 0, 0, 0, 0, 0, 0, 0, 0, 1, 0,\n",
       "       1, 1, 0, 0, 0, 1, 0, 0, 0, 0, 1, 1, 0, 0, 0, 0, 1, 1, 0, 0, 0, 1,\n",
       "       0, 1, 0, 1, 0, 0, 0, 0, 0, 1, 1, 1, 1, 1, 0, 0, 1, 1, 0, 1, 0, 1,\n",
       "       1, 1, 0, 0, 0, 0, 0, 0, 1, 1, 0, 1, 0, 0, 0, 1, 1, 1, 1, 0, 1, 1,\n",
       "       1, 1, 0, 0, 0, 0, 0, 1, 0, 0, 1, 1, 0, 0, 0, 1, 1, 1, 1, 0, 0, 0,\n",
       "       1, 1, 0, 1, 0, 0, 0, 0, 0, 0, 0, 0, 1, 1, 0, 0, 0, 1, 0, 1, 0, 0,\n",
       "       1, 0, 1, 0, 0, 1, 1, 0, 0, 0, 0, 0, 1, 0, 0, 0, 1, 0, 0, 1, 1, 0,\n",
       "       0, 1, 0, 0, 0, 1, 1, 1, 0, 0, 1, 0, 1, 0, 1, 1, 0, 1, 0, 0, 1, 0,\n",
       "       1, 1, 0, 0, 1, 0, 1, 0, 0, 1, 0, 1, 0, 1, 1, 1, 0, 0, 1, 0, 1, 0,\n",
       "       0, 0, 1, 0, 0, 0, 0, 1, 1, 1, 0, 0, 0, 0, 0, 0, 0, 0, 0, 1, 0, 0,\n",
       "       0, 0, 0, 1, 1, 1, 0, 1, 1, 0, 0, 1, 0, 0, 1, 0, 0, 1, 1, 0, 0, 0,\n",
       "       0, 1, 0, 0, 1, 0, 0, 0, 0, 0, 0, 0, 1, 1, 1, 0, 0, 1, 0, 0, 1, 0,\n",
       "       0, 1, 0, 1, 1, 0, 1, 0, 1, 0, 1, 0, 1, 1, 0, 0, 0, 0, 1, 1, 0, 1,\n",
       "       0, 1, 0, 0, 0, 0, 1, 1, 0, 1, 0, 1, 0, 0, 0, 0, 0, 1, 0, 0, 0, 0,\n",
       "       1, 0, 0, 1, 1, 1, 0, 0, 1, 0, 0, 1, 0, 0, 0, 1, 0, 0, 1, 0, 0, 0,\n",
       "       0, 0, 0, 0, 0, 0, 1, 0, 0, 0, 0, 0, 0, 0, 1, 0, 0, 0, 1, 0, 0, 0,\n",
       "       1, 1, 0, 0, 0, 0, 0, 0, 0, 1, 0, 0, 0, 0, 1, 0, 0, 0, 1, 0, 0, 0,\n",
       "       1, 0, 0, 0, 1, 0, 0, 0, 0, 1, 1, 0, 0, 0, 0, 0, 0, 1, 0, 0, 0, 0,\n",
       "       0, 0, 0, 0, 0, 0, 0, 1, 0, 0, 0, 1, 1, 1, 1, 0, 0, 1, 1, 0, 0, 0,\n",
       "       0, 0, 0, 0, 0, 0, 0, 0, 0, 0, 1, 1, 0, 0, 0, 0, 0, 0, 0, 1, 0, 0,\n",
       "       0, 0, 0, 0, 0, 1, 0, 1, 1, 0, 0, 0, 1, 0, 1, 0, 1, 0, 1, 0, 1, 0,\n",
       "       0, 1, 0, 0, 1, 0, 0, 0, 0, 1, 1, 0, 1, 0, 0, 0, 0, 1, 1, 0, 1, 0,\n",
       "       0, 0, 1, 1, 0, 0, 0, 0, 0, 0, 0, 0, 0, 0, 1, 0, 0, 0, 0, 1, 0, 0,\n",
       "       1, 0, 0, 0, 1, 0, 0, 0, 1, 1, 1, 0, 0, 0, 0, 0, 0, 1, 0, 0, 0, 1,\n",
       "       0, 1, 1, 1, 1, 0, 1, 1, 0, 0, 0, 0, 0, 0, 0, 1, 1, 0, 1, 0, 0, 1,\n",
       "       0, 1, 0, 0, 0, 0, 0, 1, 0, 1, 0, 1, 0, 1, 1, 0, 0, 0, 0, 1, 1, 0,\n",
       "       0, 0, 1, 0, 1, 1, 0, 0, 1, 0, 0, 1, 1, 0, 0, 1, 0, 0, 1, 0, 0, 0,\n",
       "       0, 0, 0, 0, 1, 1, 1, 0, 0, 0, 0, 0, 0, 1, 1, 0, 0, 1, 0, 0, 1, 0,\n",
       "       1, 1, 1, 0, 0, 1, 1, 1, 0, 1, 0, 1, 0, 1, 0, 0, 0, 0, 1, 0],\n",
       "      dtype=int64)"
      ]
     },
     "execution_count": 7,
     "metadata": {},
     "output_type": "execute_result"
    }
   ],
   "source": [
    "y"
   ]
  },
  {
   "cell_type": "markdown",
   "id": "aad85612",
   "metadata": {},
   "source": [
    "### No encoding required as all dataset attributes/ fields are in numeric type"
   ]
  },
  {
   "cell_type": "markdown",
   "id": "bb1ecf93",
   "metadata": {},
   "source": [
    "### Splitting dataset into training and testing sets"
   ]
  },
  {
   "cell_type": "code",
   "execution_count": 514,
   "id": "8f47fcbe",
   "metadata": {},
   "outputs": [],
   "source": [
    "from sklearn.model_selection import train_test_split\n",
    "X_train, X_test, y_train, y_test = train_test_split(x, y, test_size = 0.2, random_state = 42)"
   ]
  },
  {
   "cell_type": "markdown",
   "id": "b33bbb66",
   "metadata": {},
   "source": [
    "### Feature Scaling of required fields/attributes"
   ]
  },
  {
   "cell_type": "code",
   "execution_count": 515,
   "id": "3d2c08dc",
   "metadata": {},
   "outputs": [],
   "source": [
    "from sklearn.preprocessing import StandardScaler\n",
    "sc = StandardScaler()\n",
    "X_train = sc.fit_transform(X_train)\n",
    "X_test = sc.transform(X_test)"
   ]
  },
  {
   "cell_type": "code",
   "execution_count": 516,
   "id": "73baf269",
   "metadata": {},
   "outputs": [
    {
     "data": {
      "text/plain": [
       "array([[-0.52639686, -1.15139792, -3.75268255, ..., -4.13525578,\n",
       "        -0.49073479, -1.03594038],\n",
       "       [ 1.58804586, -0.27664283,  0.68034485, ..., -0.48916881,\n",
       "         2.41502991,  1.48710085],\n",
       "       [-0.82846011,  0.56687102, -1.2658623 , ..., -0.42452187,\n",
       "         0.54916055, -0.94893896],\n",
       "       ...,\n",
       "       [ 1.8901091 , -0.62029661,  0.89659009, ...,  1.76054443,\n",
       "         1.981245  ,  0.44308379],\n",
       "       [-1.13052335,  0.62935353, -3.75268255, ...,  1.34680407,\n",
       "        -0.78487662, -0.33992901],\n",
       "       [-1.13052335,  0.12949347,  1.43720319, ..., -1.22614383,\n",
       "        -0.61552223, -1.03594038]])"
      ]
     },
     "execution_count": 516,
     "metadata": {},
     "output_type": "execute_result"
    }
   ],
   "source": [
    "X_train"
   ]
  },
  {
   "cell_type": "markdown",
   "id": "ed20e540",
   "metadata": {},
   "source": [
    "### Building the ANN"
   ]
  },
  {
   "cell_type": "markdown",
   "id": "f775f761",
   "metadata": {},
   "source": [
    "### Initialising the ANN"
   ]
  },
  {
   "cell_type": "code",
   "execution_count": 528,
   "id": "ec7713bc",
   "metadata": {},
   "outputs": [],
   "source": [
    "model=tf.keras.models.Sequential()"
   ]
  },
  {
   "cell_type": "markdown",
   "id": "845f8cf2",
   "metadata": {},
   "source": [
    "### Adding input layer"
   ]
  },
  {
   "cell_type": "code",
   "execution_count": 529,
   "id": "505e035a",
   "metadata": {},
   "outputs": [],
   "source": [
    "model.add(tf.keras.layers.Dense(units=9, activation='relu'))"
   ]
  },
  {
   "cell_type": "code",
   "execution_count": 530,
   "id": "cecb4ea7",
   "metadata": {},
   "outputs": [],
   "source": [
    "model.add(tf.keras.layers.Dense(units=9, activation='relu'))"
   ]
  },
  {
   "cell_type": "code",
   "execution_count": 531,
   "id": "428afab3",
   "metadata": {},
   "outputs": [],
   "source": [
    "model.add(tf.keras.layers.Dense(units=1, activation='sigmoid'))"
   ]
  },
  {
   "cell_type": "markdown",
   "id": "a13c55b3",
   "metadata": {},
   "source": [
    "### Compiling the ANN model"
   ]
  },
  {
   "cell_type": "code",
   "execution_count": 532,
   "id": "3d6b74fd",
   "metadata": {},
   "outputs": [],
   "source": [
    "model.compile(optimizer = 'adam', loss = 'binary_crossentropy', metrics = ['accuracy'])"
   ]
  },
  {
   "cell_type": "markdown",
   "id": "ff686b97",
   "metadata": {},
   "source": [
    "### Training the ANN model with training dataset"
   ]
  },
  {
   "cell_type": "code",
   "execution_count": 533,
   "id": "c6bc010e",
   "metadata": {},
   "outputs": [
    {
     "data": {
      "text/plain": [
       "(614, 8)"
      ]
     },
     "execution_count": 533,
     "metadata": {},
     "output_type": "execute_result"
    }
   ],
   "source": [
    "X_train.shape"
   ]
  },
  {
   "cell_type": "code",
   "execution_count": 534,
   "id": "d5d41444",
   "metadata": {},
   "outputs": [
    {
     "name": "stdout",
     "output_type": "stream",
     "text": [
      "Epoch 1/50\n",
      "77/77 [==============================] - 1s 3ms/step - loss: 0.6755 - accuracy: 0.6401\n",
      "Epoch 2/50\n",
      "77/77 [==============================] - 0s 3ms/step - loss: 0.6093 - accuracy: 0.6678\n",
      "Epoch 3/50\n",
      "77/77 [==============================] - 0s 3ms/step - loss: 0.5694 - accuracy: 0.6873\n",
      "Epoch 4/50\n",
      "77/77 [==============================] - 0s 3ms/step - loss: 0.5433 - accuracy: 0.7231\n",
      "Epoch 5/50\n",
      "77/77 [==============================] - 0s 3ms/step - loss: 0.5262 - accuracy: 0.7427\n",
      "Epoch 6/50\n",
      "77/77 [==============================] - 0s 4ms/step - loss: 0.5107 - accuracy: 0.7492\n",
      "Epoch 7/50\n",
      "77/77 [==============================] - 0s 3ms/step - loss: 0.4988 - accuracy: 0.7541\n",
      "Epoch 8/50\n",
      "77/77 [==============================] - 0s 3ms/step - loss: 0.4880 - accuracy: 0.7590\n",
      "Epoch 9/50\n",
      "77/77 [==============================] - 0s 3ms/step - loss: 0.4793 - accuracy: 0.7590\n",
      "Epoch 10/50\n",
      "77/77 [==============================] - 0s 3ms/step - loss: 0.4721 - accuracy: 0.7590\n",
      "Epoch 11/50\n",
      "77/77 [==============================] - 0s 3ms/step - loss: 0.4655 - accuracy: 0.7590\n",
      "Epoch 12/50\n",
      "77/77 [==============================] - 0s 3ms/step - loss: 0.4610 - accuracy: 0.7671\n",
      "Epoch 13/50\n",
      "77/77 [==============================] - 0s 3ms/step - loss: 0.4564 - accuracy: 0.7687\n",
      "Epoch 14/50\n",
      "77/77 [==============================] - 0s 3ms/step - loss: 0.4532 - accuracy: 0.7785\n",
      "Epoch 15/50\n",
      "77/77 [==============================] - 0s 3ms/step - loss: 0.4496 - accuracy: 0.7769\n",
      "Epoch 16/50\n",
      "77/77 [==============================] - 0s 3ms/step - loss: 0.4468 - accuracy: 0.7752\n",
      "Epoch 17/50\n",
      "77/77 [==============================] - 0s 3ms/step - loss: 0.4441 - accuracy: 0.7785\n",
      "Epoch 18/50\n",
      "77/77 [==============================] - 0s 3ms/step - loss: 0.4424 - accuracy: 0.7752\n",
      "Epoch 19/50\n",
      "77/77 [==============================] - 0s 3ms/step - loss: 0.4399 - accuracy: 0.7883\n",
      "Epoch 20/50\n",
      "77/77 [==============================] - 0s 3ms/step - loss: 0.4377 - accuracy: 0.7866\n",
      "Epoch 21/50\n",
      "77/77 [==============================] - 0s 3ms/step - loss: 0.4358 - accuracy: 0.7899\n",
      "Epoch 22/50\n",
      "77/77 [==============================] - 0s 3ms/step - loss: 0.4340 - accuracy: 0.7932\n",
      "Epoch 23/50\n",
      "77/77 [==============================] - 0s 3ms/step - loss: 0.4313 - accuracy: 0.7915\n",
      "Epoch 24/50\n",
      "77/77 [==============================] - 0s 3ms/step - loss: 0.4296 - accuracy: 0.7932\n",
      "Epoch 25/50\n",
      "77/77 [==============================] - 0s 3ms/step - loss: 0.4287 - accuracy: 0.7948\n",
      "Epoch 26/50\n",
      "77/77 [==============================] - 0s 3ms/step - loss: 0.4264 - accuracy: 0.7932\n",
      "Epoch 27/50\n",
      "77/77 [==============================] - 0s 3ms/step - loss: 0.4244 - accuracy: 0.7915\n",
      "Epoch 28/50\n",
      "77/77 [==============================] - 0s 3ms/step - loss: 0.4238 - accuracy: 0.7964\n",
      "Epoch 29/50\n",
      "77/77 [==============================] - 0s 3ms/step - loss: 0.4219 - accuracy: 0.7948\n",
      "Epoch 30/50\n",
      "77/77 [==============================] - 0s 3ms/step - loss: 0.4202 - accuracy: 0.8013\n",
      "Epoch 31/50\n",
      "77/77 [==============================] - 0s 3ms/step - loss: 0.4188 - accuracy: 0.7980\n",
      "Epoch 32/50\n",
      "77/77 [==============================] - 0s 4ms/step - loss: 0.4169 - accuracy: 0.8046\n",
      "Epoch 33/50\n",
      "77/77 [==============================] - 0s 3ms/step - loss: 0.4156 - accuracy: 0.7932\n",
      "Epoch 34/50\n",
      "77/77 [==============================] - 0s 4ms/step - loss: 0.4142 - accuracy: 0.8046\n",
      "Epoch 35/50\n",
      "77/77 [==============================] - 0s 3ms/step - loss: 0.4127 - accuracy: 0.8111\n",
      "Epoch 36/50\n",
      "77/77 [==============================] - 0s 3ms/step - loss: 0.4119 - accuracy: 0.8013\n",
      "Epoch 37/50\n",
      "77/77 [==============================] - 0s 3ms/step - loss: 0.4099 - accuracy: 0.8127\n",
      "Epoch 38/50\n",
      "77/77 [==============================] - 0s 3ms/step - loss: 0.4101 - accuracy: 0.8013\n",
      "Epoch 39/50\n",
      "77/77 [==============================] - 0s 3ms/step - loss: 0.4081 - accuracy: 0.8111\n",
      "Epoch 40/50\n",
      "77/77 [==============================] - 0s 4ms/step - loss: 0.4080 - accuracy: 0.8078\n",
      "Epoch 41/50\n",
      "77/77 [==============================] - 0s 4ms/step - loss: 0.4058 - accuracy: 0.8046\n",
      "Epoch 42/50\n",
      "77/77 [==============================] - 0s 3ms/step - loss: 0.4060 - accuracy: 0.8078\n",
      "Epoch 43/50\n",
      "77/77 [==============================] - 0s 3ms/step - loss: 0.4043 - accuracy: 0.8078\n",
      "Epoch 44/50\n",
      "77/77 [==============================] - 0s 3ms/step - loss: 0.4053 - accuracy: 0.8078\n",
      "Epoch 45/50\n",
      "77/77 [==============================] - 0s 4ms/step - loss: 0.4029 - accuracy: 0.8127\n",
      "Epoch 46/50\n",
      "77/77 [==============================] - 0s 3ms/step - loss: 0.4027 - accuracy: 0.8078\n",
      "Epoch 47/50\n",
      "77/77 [==============================] - 0s 3ms/step - loss: 0.4014 - accuracy: 0.8143\n",
      "Epoch 48/50\n",
      "77/77 [==============================] - 0s 3ms/step - loss: 0.4013 - accuracy: 0.8062\n",
      "Epoch 49/50\n",
      "77/77 [==============================] - 0s 4ms/step - loss: 0.4010 - accuracy: 0.8094\n",
      "Epoch 50/50\n",
      "77/77 [==============================] - 0s 3ms/step - loss: 0.3999 - accuracy: 0.8094\n"
     ]
    },
    {
     "data": {
      "text/plain": [
       "<keras.callbacks.History at 0x23d54334f40>"
      ]
     },
     "execution_count": 534,
     "metadata": {},
     "output_type": "execute_result"
    }
   ],
   "source": [
    "model.fit(X_train, y_train, batch_size=8, epochs=50)"
   ]
  },
  {
   "cell_type": "markdown",
   "id": "2c675556",
   "metadata": {},
   "source": [
    "### Making the prediction and evaluationg the model"
   ]
  },
  {
   "cell_type": "code",
   "execution_count": 539,
   "id": "e40e604f",
   "metadata": {},
   "outputs": [
    {
     "name": "stdout",
     "output_type": "stream",
     "text": [
      "5/5 [==============================] - 0s 3ms/step\n"
     ]
    }
   ],
   "source": [
    "y_pred=model.predict(X_test)"
   ]
  },
  {
   "cell_type": "code",
   "execution_count": 540,
   "id": "485f58e2",
   "metadata": {},
   "outputs": [],
   "source": [
    "y_pred=(y_pred>0.5)"
   ]
  },
  {
   "cell_type": "code",
   "execution_count": 541,
   "id": "00c24ded",
   "metadata": {},
   "outputs": [
    {
     "data": {
      "text/plain": [
       "array([[81, 18],\n",
       "       [19, 36]], dtype=int64)"
      ]
     },
     "execution_count": 541,
     "metadata": {},
     "output_type": "execute_result"
    }
   ],
   "source": [
    "from sklearn.metrics import confusion_matrix, accuracy_score\n",
    "cm=confusion_matrix(y_test, y_pred)\n",
    "cm"
   ]
  },
  {
   "cell_type": "code",
   "execution_count": 542,
   "id": "dcae96a3",
   "metadata": {},
   "outputs": [
    {
     "data": {
      "text/plain": [
       "0.7597402597402597"
      ]
     },
     "execution_count": 542,
     "metadata": {},
     "output_type": "execute_result"
    }
   ],
   "source": [
    "accuracy_score(y_test, y_pred)"
   ]
  },
  {
   "cell_type": "markdown",
   "id": "ae882284",
   "metadata": {},
   "source": [
    "### -Made by Manish Kumar"
   ]
  },
  {
   "cell_type": "code",
   "execution_count": null,
   "id": "5c000f76",
   "metadata": {},
   "outputs": [],
   "source": []
  }
 ],
 "metadata": {
  "kernelspec": {
   "display_name": "Python 3 (ipykernel)",
   "language": "python",
   "name": "python3"
  },
  "language_info": {
   "codemirror_mode": {
    "name": "ipython",
    "version": 3
   },
   "file_extension": ".py",
   "mimetype": "text/x-python",
   "name": "python",
   "nbconvert_exporter": "python",
   "pygments_lexer": "ipython3",
   "version": "3.9.13"
  }
 },
 "nbformat": 4,
 "nbformat_minor": 5
}
